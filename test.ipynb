{
 "cells": [
  {
   "cell_type": "code",
   "execution_count": 2,
   "metadata": {},
   "outputs": [],
   "source": [
    "# Import necessary libraries for news extraction.\n",
    "import requests\n",
    "import json\n",
    "import os\n",
    "from dotenv import load_dotenv\n",
    "from newspaper import Article"
   ]
  },
  {
   "cell_type": "code",
   "execution_count": 3,
   "metadata": {},
   "outputs": [],
   "source": [
    "# Defining headers\n",
    "headers = {\n",
    "    'User-Agent': 'Mozilla/5.0 (Windows NT 10.0; Win64; x64) AppleWebKit/537.36 (KHTML, like Gecko) Chrome/89.0.4389.82 Safari/537.36'\n",
    "}\n",
    "\n",
    "# URL of the original news article\n",
    "article_url = 'https://www.aljazeera.com/news/2024/7/16/trump-receives-heros-welcome-in-first-appearance-since-assassination-bid'"
   ]
  },
  {
   "cell_type": "code",
   "execution_count": 4,
   "metadata": {},
   "outputs": [
    {
     "name": "stdout",
     "output_type": "stream",
     "text": [
      "Title : Trump receives hero’s welcome at RNC in first appearance since being shot\n",
      "Text : Donald Trump has received a hero’s welcome at the Republican National Convention, the former president’s first public appearance since he narrowly survived an attempted assassination.\n",
      "\n",
      "Trump arrived at the Fiserv Forum in Milwaukee, Wisconsin to a rapturous reception on Monday, two days after he was struck in the ear by a would-be assassin’s bullet during a campaign rally in Butler, Pennsylvania.\n",
      "\n",
      "Republican delegates stood and cheered as Trump, sporting a thick bandage over his right ear, entered the stadium to the sound of country music star Lee Greenwood singing “God Bless the USA”.\n",
      "\n",
      "Trump, who appeared visibly moved, did not address the convention, but smiled and waved to the crowd as supporters chanted “Fight! Fight! Fight” and pumped their fists – a reference to the former president’s defiant reaction in the moments after he was shot.\n",
      "\n",
      "After surveying the crowd, Trump took a seat in a VIP box with some of his children and his newly announced vice presidential running mate, Ohio Senator JD Vance.\n",
      "\n",
      "Multiple speakers addressed Saturday’s attack on Trump, who has credited God with saving his life, some of them invoking religious imagery.\n",
      "\n",
      "“Our God still saves, he still delivers and he still sets free,” South Carolina Senator Tim Scott told the crowd.\n",
      "\n",
      "“Because, on Saturday, the devil came to Pennsylvania holding a rifle – but an American lion got back up on his feet, and he roared.”\n",
      "\n",
      "Other speakers focused on the economy, the official theme of the evening, including Virginia Governor Glenn Youngkin, who said Trump would restore a “rip-roaring economy that lifts up all Americans”.\n",
      "\n",
      "Trump, who scored a significant legal win hours before his appearance when a Florida judge dismissed one of three pending criminal cases against him, is due to formally accept the Republican nomination on Thursday, setting up a rerun of the 2020 contest against Democratic President Joe Biden in November.\n",
      "\n",
      "Trump has signalled that unity will be a key theme of the four-day event, saying in a newspaper interview on Sunday that he would deliver a “whole different speech” than the one he had originally planned.\n",
      "\n",
      "The attack on Trump has prompted widespread calls for resetting the US’s acrimonious politics, with both Trump and Biden calling on Americans to put political divisions aside and come together.\n",
      "\n",
      "However, Al Jazeera’s Alan Fisher, reporting from Milwaukee, said Monday’s RNC schedule featured many messages that were “strident, very strong and, some would say, in places, they were angry”.\n",
      "\n",
      "“There were a couple of speeches on the stage such as [that of] Ron Johnson, who is the Republican senator from right here in Wisconsin, who describes the Democrats as a clear and present danger,” Fisher said.\n",
      "\n",
      "“That’s the sort of language we were told that people would try and avoid.”\n",
      "\n",
      "Johnson later told PBS Newshour that he had given the wrong speech after an earlier version of the text was loaded into the teleprompter.\n",
      "\n",
      "Some prominent Republicans, including Vance, have accused Biden and the Democrats of inspiring the attack with heated rhetoric casting Trump as an existential threat to democracy.\n",
      "\n",
      "In his first television interview since the attempted assassination, Biden said on Monday that it had been a mistake to tell donors that Trump should be put “in a bull’s-eye”, but defended his portrayal of his Republican rival as a threat to democracy.\n",
      "\n",
      "“Look, how do you talk about the threat to democracy, which is real, when a president says things like he says? Do you just not say anything because it may incite somebody?” Biden told NBC News.\n",
      "\n",
      "While the effect of the attack on Trump on the race is not yet clear, some political analysts have suggested that it will bolster his chances of winning, especially as it occurred in a key swing state that is considered vital to Biden’s election hopes.\n",
      "\n",
      "Trump is already leading Biden in most opinion polls, both nationwide and in battleground states such as Pennsylvania, Wisconsin and Michigan.\n",
      "\n",
      "An average of polls collated by the 538 website shows Trump ahead by 2.2 percent nationally.\n",
      "\n",
      "Trump’s lead has grown by 2 percentage points since a faltering debate performance by Biden last month that saw the 81-year-old Democrat trip over his words and lose his train of thought.\n"
     ]
    }
   ],
   "source": [
    "# Creating the Session\n",
    "session = requests.session()\n",
    "\n",
    "# Fetching the news from the web\n",
    "try:\n",
    "    response = session.get(article_url, headers=headers, timeout=10)\n",
    "    if response.status_code == 200:\n",
    "        article = Article(article_url)\n",
    "        article.download()\n",
    "        article.parse()\n",
    "        \n",
    "        print(f'Title : {article.title}')\n",
    "        print(f'Text : {article.text}')\n",
    "        \n",
    "    else:\n",
    "        print(f'Failed to fetch article at {article_url}')\n",
    "        \n",
    "except Exception as e:\n",
    "    print(f'Error occured while fetching article at {article_url}: {e}')"
   ]
  },
  {
   "cell_type": "code",
   "execution_count": 5,
   "metadata": {},
   "outputs": [],
   "source": [
    "# Loading the environment variables\n",
    "load_dotenv()\n",
    "\n",
    "# Loading the API KEY for Huggingface from the environment variable\n",
    "HF_API_KEY = os.environ['HF_API_KEY']"
   ]
  },
  {
   "cell_type": "code",
   "execution_count": 6,
   "metadata": {},
   "outputs": [],
   "source": [
    "# Importing necessary libraries for News Summarizer\n",
    "from langchain_huggingface.llms.huggingface_endpoint import HuggingFaceEndpoint\n",
    "from langchain.prompts.prompt import PromptTemplate\n",
    "from langchain.output_parsers import PydanticOutputParser\n",
    "from pydantic import field_validator, BaseModel, Field\n",
    "from typing import List"
   ]
  },
  {
   "cell_type": "code",
   "execution_count": 7,
   "metadata": {},
   "outputs": [],
   "source": [
    "# Defining the Pydantic class to be used as ouput parser\n",
    "class ArticleSummary(BaseModel) : \n",
    "    title: str = Field(description=\"Title of the article\")\n",
    "    summary: List[str] = Field(description=\"Bulleted list summary of the article\")\n",
    "    \n",
    "    # Field validator to check if the summary has more then three lines or not. The summary is expected to be of more than three lines.\n",
    "    @field_validator('summary')\n",
    "    def check_lines(cls, list_of_lines):\n",
    "        if len(list_of_lines) < 3:\n",
    "            raise ValueError(\"Generated summary has less than three bullet points.\")\n",
    "        return list_of_lines"
   ]
  },
  {
   "cell_type": "code",
   "execution_count": 8,
   "metadata": {},
   "outputs": [],
   "source": [
    "# Creating the output parser object.\n",
    "parser = PydanticOutputParser(pydantic_object=ArticleSummary)"
   ]
  },
  {
   "cell_type": "code",
   "execution_count": 9,
   "metadata": {},
   "outputs": [],
   "source": [
    "# The prompt Template for LLM\n",
    "propmt_template = PromptTemplate(\n",
    "    input_variables=['article_title','article_text'],\n",
    "    template='''\n",
    "        You are an advanced AI assistant that summarizes online articles.\n",
    "\n",
    "        Here's the article you want to summarize.\n",
    "\n",
    "        ==================\n",
    "        Title: {article_title}\n",
    "\n",
    "        {article_text}\n",
    "        ==================\n",
    "\n",
    "        {format_instructions}\n",
    "    ''',\n",
    "    partial_variables={'format_instructions': parser.get_format_instructions()}\n",
    ")"
   ]
  },
  {
   "cell_type": "code",
   "execution_count": 10,
   "metadata": {},
   "outputs": [],
   "source": [
    "# The actual prompt to be passed to the LLM\n",
    "prompt = propmt_template.format(article_title=article.title, article_text=article.text)"
   ]
  },
  {
   "cell_type": "code",
   "execution_count": 11,
   "metadata": {},
   "outputs": [
    {
     "name": "stderr",
     "output_type": "stream",
     "text": [
      "/home/ramakrishna/My Space/Data Science/Projects/News Article Summarizer/env/lib/python3.10/site-packages/tqdm/auto.py:21: TqdmWarning: IProgress not found. Please update jupyter and ipywidgets. See https://ipywidgets.readthedocs.io/en/stable/user_install.html\n",
      "  from .autonotebook import tqdm as notebook_tqdm\n"
     ]
    },
    {
     "name": "stdout",
     "output_type": "stream",
     "text": [
      "The token has not been saved to the git credentials helper. Pass `add_to_git_credential=True` in this function directly or `--add-to-git-credential` if using via `huggingface-cli` if you want to set the git credential as well.\n",
      "Token is valid (permission: write).\n",
      "Your token has been saved to /home/ramakrishna/.cache/huggingface/token\n",
      "Login successful\n"
     ]
    }
   ],
   "source": [
    "# Initializing the LLM via HuggingFace.\n",
    "# The model used is Mixtral - 7B - Instruct. (A chat Model).\n",
    "llm = HuggingFaceEndpoint(\n",
    "    huggingfacehub_api_token=HF_API_KEY,\n",
    "    repo_id='mistralai/Mixtral-8x7B-Instruct-v0.1',\n",
    "    temperature=0.2\n",
    ")"
   ]
  },
  {
   "cell_type": "code",
   "execution_count": 12,
   "metadata": {},
   "outputs": [
    {
     "name": "stdout",
     "output_type": "stream",
     "text": [
      "\n",
      "    {\n",
      "      \"title\": \"Trump receives hero’s welcome at RNC in first appearance since being shot\",\n",
      "      \"summary\": [\n",
      "        \"Donald Trump received a hero's welcome at the Republican National Convention (RNC) in Milwaukee, Wisconsin.\",\n",
      "        \"This was his first public appearance since he narrowly survived an attempted assassination at a campaign rally in Butler, Pennsylvania.\",\n",
      "        \"Trump arrived to cheers and chants of 'Fight! Fight! Fight' and 'USA', and took a seat in a VIP box with some of his children and Ohio Senator JD Vance.\",\n",
      "        \"Multiple speakers addressed the attack, with South Carolina Senator Tim Scott invoking religious imagery.\",\n",
      "        \"Trump is due to formally accept the Republican nomination on Thursday, setting up a rerun of the 2020 contest against Democratic President Joe Biden.\",\n",
      "        \"Trump has signalled that unity will be a key theme of the four-day event, but some speakers at the RNC delivered strident messages.\",\n",
      "        \"Biden said on Monday that it had been a mistake to tell donors that Trump should be put 'in a bull’s-eye', but defended his portrayal of his Republican rival as a threat to democracy.\"\n",
      "      ]\n",
      "    }\n"
     ]
    }
   ],
   "source": [
    "# Extracting the response from the LLM\n",
    "response = llm.invoke(prompt)\n",
    "print(response)"
   ]
  },
  {
   "cell_type": "code",
   "execution_count": 13,
   "metadata": {},
   "outputs": [
    {
     "name": "stdout",
     "output_type": "stream",
     "text": [
      "title='Trump receives hero’s welcome at RNC in first appearance since being shot' summary=[\"Donald Trump received a hero's welcome at the Republican National Convention (RNC) in Milwaukee, Wisconsin.\", 'This was his first public appearance since he narrowly survived an attempted assassination at a campaign rally in Butler, Pennsylvania.', \"Trump arrived to cheers and chants of 'Fight! Fight! Fight' and 'USA', and took a seat in a VIP box with some of his children and Ohio Senator JD Vance.\", 'Multiple speakers addressed the attack, with South Carolina Senator Tim Scott invoking religious imagery.', 'Trump is due to formally accept the Republican nomination on Thursday, setting up a rerun of the 2020 contest against Democratic President Joe Biden.', 'Trump has signalled that unity will be a key theme of the four-day event, but some speakers at the RNC delivered strident messages.', \"Biden said on Monday that it had been a mistake to tell donors that Trump should be put 'in a bull’s-eye', but defended his portrayal of his Republican rival as a threat to democracy.\"]\n"
     ]
    }
   ],
   "source": [
    "# Parsing the response using the ouput parser.\n",
    "parsed_response = parser.parse(response)\n",
    "print(parsed_response)"
   ]
  },
  {
   "cell_type": "code",
   "execution_count": 14,
   "metadata": {},
   "outputs": [
    {
     "name": "stdout",
     "output_type": "stream",
     "text": [
      "Trump receives hero’s welcome at RNC in first appearance since being shot\n",
      "- Donald Trump received a hero's welcome at the Republican National Convention (RNC) in Milwaukee, Wisconsin.\n",
      "- This was his first public appearance since he narrowly survived an attempted assassination at a campaign rally in Butler, Pennsylvania.\n",
      "- Trump arrived to cheers and chants of 'Fight! Fight! Fight' and 'USA', and took a seat in a VIP box with some of his children and Ohio Senator JD Vance.\n",
      "- Multiple speakers addressed the attack, with South Carolina Senator Tim Scott invoking religious imagery.\n",
      "- Trump is due to formally accept the Republican nomination on Thursday, setting up a rerun of the 2020 contest against Democratic President Joe Biden.\n",
      "- Trump has signalled that unity will be a key theme of the four-day event, but some speakers at the RNC delivered strident messages.\n",
      "- Biden said on Monday that it had been a mistake to tell donors that Trump should be put 'in a bull’s-eye', but defended his portrayal of his Republican rival as a threat to democracy.\n"
     ]
    }
   ],
   "source": [
    "# Parsed Reponse (Title and the Bullet Points.)\n",
    "print(parsed_response.title)\n",
    "for item in parsed_response.summary:\n",
    "    print('-',item)"
   ]
  },
  {
   "cell_type": "code",
   "execution_count": null,
   "metadata": {},
   "outputs": [],
   "source": []
  }
 ],
 "metadata": {
  "kernelspec": {
   "display_name": "env",
   "language": "python",
   "name": "python3"
  },
  "language_info": {
   "codemirror_mode": {
    "name": "ipython",
    "version": 3
   },
   "file_extension": ".py",
   "mimetype": "text/x-python",
   "name": "python",
   "nbconvert_exporter": "python",
   "pygments_lexer": "ipython3",
   "version": "3.10.12"
  }
 },
 "nbformat": 4,
 "nbformat_minor": 2
}
